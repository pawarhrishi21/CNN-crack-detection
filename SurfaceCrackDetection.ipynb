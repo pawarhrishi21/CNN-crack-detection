{
 "cells": [
  {
   "cell_type": "code",
   "execution_count": 1,
   "metadata": {
    "id": "EcbEw0GQf5nN"
   },
   "outputs": [],
   "source": [
    "%tensorflow_version 2.x"
   ]
  },
  {
   "cell_type": "code",
   "execution_count": 2,
   "metadata": {
    "id": "6ae40Qsq0kws"
   },
   "outputs": [],
   "source": [
    "import numpy as np\n",
    "import pandas as pd\n",
    "import matplotlib.pyplot as plt\n",
    "import tensorflow as tf\n",
    "from tensorflow import keras"
   ]
  },
  {
   "cell_type": "code",
   "execution_count": 3,
   "metadata": {
    "colab": {
     "base_uri": "https://localhost:8080/"
    },
    "id": "XeSSK9pT0NyE",
    "outputId": "f5b257e8-173b-4c9f-85e8-1a14a2905144"
   },
   "outputs": [
    {
     "name": "stdout",
     "output_type": "stream",
     "text": [
      "Drive already mounted at /content/drive; to attempt to forcibly remount, call drive.mount(\"/content/drive\", force_remount=True).\n"
     ]
    }
   ],
   "source": [
    "#USE THIS CELL ONLY IF USING GOOGLE COLABORATORY\n",
    "#Mounting google drive to import data into colaboratory\n",
    "\n",
    "from google.colab import drive\n",
    "drive.mount('/content/drive')"
   ]
  },
  {
   "cell_type": "code",
   "execution_count": 4,
   "metadata": {
    "id": "Tb0N1KCE0N0_"
   },
   "outputs": [],
   "source": [
    "#USE THIS CELL ONLY IF USING GOOGLE COLABORATORY\n",
    "!unzip -uq \"RAW_INPUT_DATASET_ZIP_FILE_PATH_IN_GOOGLE_DRIVE\" -d \"PATH_TO_DIRECTORY_WHERE_DATA_UNZIPS\""
   ]
  },
  {
   "cell_type": "code",
   "execution_count": 5,
   "metadata": {
    "id": "9MCRdXQa0N3n"
   },
   "outputs": [],
   "source": [
    "import os"
   ]
  },
  {
   "cell_type": "code",
   "execution_count": 6,
   "metadata": {
    "id": "foIxZUxpN8HB"
   },
   "outputs": [],
   "source": [
    "def display_prediction_stats(probability_of_crack):\n",
    "  print(\"Probability that the sample has a Crack =\", probability_of_crack)\n",
    "  if probability_of_crack >= 0.5:\n",
    "    print(\"Crack Detected !\")\n",
    "  else:\n",
    "    print(\"No Crack Detected !\")\n"
   ]
  },
  {
   "cell_type": "code",
   "execution_count": null,
   "metadata": {
    "colab": {
     "base_uri": "https://localhost:8080/"
    },
    "id": "1HB2HS0Ct2J9",
    "outputId": "a00cfc20-1f08-40e0-c6fd-5d7e51fe240e"
   },
   "outputs": [],
   "source": [
    "# Joining Directory Paths\n",
    "\n",
    "for root,directory_names,file_names in os.walk('INPUT_DATA_DIRECTORY_PATH', topdown=True):\n",
    "  for each_file_name in file_names:\n",
    "    os.path.join(root, each_file_name)"
   ]
  },
  {
   "cell_type": "code",
   "execution_count": 8,
   "metadata": {
    "colab": {
     "base_uri": "https://localhost:8080/"
    },
    "id": "EwVlb2-9urRB",
    "outputId": "d131ca42-769e-4dc3-8d7d-2cae4cb33e91"
   },
   "outputs": [
    {
     "name": "stdout",
     "output_type": "stream",
     "text": [
      "Found 32000 images belonging to 2 classes.\n",
      "Found 8000 images belonging to 2 classes.\n"
     ]
    }
   ],
   "source": [
    "# Data Preprocessing\n",
    "\n",
    "image_generator = keras.preprocessing.image.ImageDataGenerator(rescale=1/255,\n",
    "                                     validation_split=0.2,\n",
    "                                     horizontal_flip=True, #Data Augmentation\n",
    "                                     vertical_flip=True,   #Data Augmentation\n",
    "                                     rotation_range=15,    #Data Augmentation\n",
    "                                     fill_mode='nearest')\n",
    "\n",
    "training_dataset = image_generator.flow_from_directory('input',\n",
    "                                                       batch_size=32,\n",
    "                                                       shuffle=True,\n",
    "                                                       target_size=(128,128),\n",
    "                                                       subset=\"training\",\n",
    "                                                       class_mode=\"binary\")\n",
    "\n",
    "validation_dataset = image_generator.flow_from_directory('input',\n",
    "                                                       batch_size=32,\n",
    "                                                       shuffle=True,\n",
    "                                                       target_size=(128,128),\n",
    "                                                       subset=\"validation\",\n",
    "                                                       class_mode=\"binary\")\n",
    "\n",
    "# Original Dataset divided into Training(80%) and Validation(20%) datasets"
   ]
  },
  {
   "cell_type": "code",
   "execution_count": 9,
   "metadata": {
    "id": "y38b3UGI3lZb"
   },
   "outputs": [],
   "source": [
    "from tensorflow.keras import layers,models\n",
    "\n",
    "crack_detection_model = models.Sequential()\n",
    "\n",
    "# Input Layer - Convolutional\n",
    "crack_detection_model.add(layers.Conv2D(256, # 256 - no of filters (also, no of output images)\n",
    "                                 (1,1),\n",
    "                                 strides=(1,1),\n",
    "                                 padding=\"valid\",\n",
    "                                 use_bias=True,\n",
    "                                 input_shape=(128,128,3),\n",
    "                                 activation=\"relu\"\n",
    "                                 )\n",
    "                          )\n",
    "\n",
    "# Five Hidden layers - Maxpool, Convolutional, Maxpool, Convolutional, Maxpool\n",
    "crack_detection_model.add(layers.MaxPooling2D(pool_size=(2,2),\n",
    "                                       padding=\"valid\",\n",
    "                                       strides=(2,2), # In MaxPooling2D, strides anyway default to pool_size\n",
    "                                       )\n",
    "                         )\n",
    "\n",
    "crack_detection_model.add(layers.Conv2D(256, #no of filters (also, no of output images)\n",
    "                                 (1,1),\n",
    "                                 strides=(1,1),\n",
    "                                 padding=\"valid\",\n",
    "                                 use_bias=True,\n",
    "                                 activation=\"relu\"\n",
    "                                 )\n",
    "                          )\n",
    "\n",
    "crack_detection_model.add(layers.MaxPooling2D(pool_size=(2,2),\n",
    "                                       padding=\"valid\",\n",
    "                                       strides=(2,2),\n",
    "                                       )\n",
    "                         )\n",
    "\n",
    "crack_detection_model.add(layers.Conv2D(256,\n",
    "                                 (1,1),\n",
    "                                 strides=(1,1),\n",
    "                                 padding=\"valid\",\n",
    "                                 use_bias=True,\n",
    "                                 activation=\"relu\"\n",
    "                                 )\n",
    "                          )\n",
    "\n",
    "crack_detection_model.add(layers.MaxPooling2D(pool_size=(2,2),\n",
    "                                       padding=\"valid\",\n",
    "                                       strides=(1,1)\n",
    "                                       )\n",
    "                         )\n",
    "\n",
    " #Flattening the pixel matrix to feed the dense layer\n",
    "crack_detection_model.add(layers.Flatten())\n",
    "\n",
    "# Three Hidden Layers - Dense NN\n",
    "crack_detection_model.add(layers.Dense(128,\n",
    "                                       activation='relu',\n",
    "                                       kernel_regularizer='l2'),\n",
    "                          )\n",
    "\n",
    "crack_detection_model.add(layers.Dense(64,\n",
    "                                       activation='relu',\n",
    "                                       kernel_regularizer='l2'),\n",
    "                          )\n",
    "\n",
    "crack_detection_model.add(layers.Dense(32,\n",
    "                                       activation='relu',\n",
    "                                       kernel_regularizer='l2'),\n",
    "                          )\n",
    "\n",
    "crack_detection_model.add(layers.Dense(8,\n",
    "                                       activation='relu',\n",
    "                                       kernel_regularizer='l2'),\n",
    "                          )\n",
    "\n",
    "# Output Layer - Single node with Sigmoid/SoftMax activation function for classification\n",
    "crack_detection_model.add(layers.Dense(1,\n",
    "                                       activation='sigmoid',\n",
    "                                       kernel_regularizer='l2'),\n",
    "                          )"
   ]
  },
  {
   "cell_type": "code",
   "execution_count": 10,
   "metadata": {
    "colab": {
     "base_uri": "https://localhost:8080/"
    },
    "id": "u8XrMq7G3lcJ",
    "outputId": "cd55923d-ffbb-4fea-a178-cf2de39155c8"
   },
   "outputs": [
    {
     "name": "stdout",
     "output_type": "stream",
     "text": [
      "Model: \"sequential\"\n",
      "_________________________________________________________________\n",
      "Layer (type)                 Output Shape              Param #   \n",
      "=================================================================\n",
      "conv2d (Conv2D)              (None, 128, 128, 256)     1024      \n",
      "_________________________________________________________________\n",
      "max_pooling2d (MaxPooling2D) (None, 64, 64, 256)       0         \n",
      "_________________________________________________________________\n",
      "conv2d_1 (Conv2D)            (None, 64, 64, 256)       65792     \n",
      "_________________________________________________________________\n",
      "max_pooling2d_1 (MaxPooling2 (None, 32, 32, 256)       0         \n",
      "_________________________________________________________________\n",
      "conv2d_2 (Conv2D)            (None, 32, 32, 256)       65792     \n",
      "_________________________________________________________________\n",
      "max_pooling2d_2 (MaxPooling2 (None, 31, 31, 256)       0         \n",
      "_________________________________________________________________\n",
      "flatten (Flatten)            (None, 246016)            0         \n",
      "_________________________________________________________________\n",
      "dense (Dense)                (None, 128)               31490176  \n",
      "_________________________________________________________________\n",
      "dense_1 (Dense)              (None, 64)                8256      \n",
      "_________________________________________________________________\n",
      "dense_2 (Dense)              (None, 32)                2080      \n",
      "_________________________________________________________________\n",
      "dense_3 (Dense)              (None, 8)                 264       \n",
      "_________________________________________________________________\n",
      "dense_4 (Dense)              (None, 1)                 9         \n",
      "=================================================================\n",
      "Total params: 31,633,393\n",
      "Trainable params: 31,633,393\n",
      "Non-trainable params: 0\n",
      "_________________________________________________________________\n"
     ]
    }
   ],
   "source": [
    "crack_detection_model.summary()"
   ]
  },
  {
   "cell_type": "code",
   "execution_count": 11,
   "metadata": {
    "id": "c4qYYMzS3lez"
   },
   "outputs": [],
   "source": [
    "crack_detection_model.compile(loss='binary_crossentropy', \n",
    "                              optimizer=keras.optimizers.Adam(), \n",
    "                              metrics=['accuracy'],\n",
    "                              )"
   ]
  },
  {
   "cell_type": "code",
   "execution_count": 12,
   "metadata": {
    "colab": {
     "base_uri": "https://localhost:8080/"
    },
    "id": "9M58a_9-3lh2",
    "outputId": "0a1c3438-220a-4e62-be69-8e3ea051181b"
   },
   "outputs": [
    {
     "name": "stdout",
     "output_type": "stream",
     "text": [
      "Epoch 1/10\n",
      "1000/1000 [==============================] - 3070s 3s/step - loss: 0.5396 - accuracy: 0.9166 - val_loss: 0.2541 - val_accuracy: 0.9801\n",
      "Epoch 2/10\n",
      "1000/1000 [==============================] - 3050s 3s/step - loss: 0.2536 - accuracy: 0.9737 - val_loss: 0.2043 - val_accuracy: 0.9795\n",
      "Epoch 3/10\n",
      "1000/1000 [==============================] - 3056s 3s/step - loss: 0.2110 - accuracy: 0.9748 - val_loss: 0.1808 - val_accuracy: 0.9691\n",
      "Epoch 4/10\n",
      "1000/1000 [==============================] - 3035s 3s/step - loss: 0.1784 - accuracy: 0.9768 - val_loss: 0.2002 - val_accuracy: 0.9803\n",
      "Epoch 5/10\n",
      "1000/1000 [==============================] - 3040s 3s/step - loss: 0.1642 - accuracy: 0.9773 - val_loss: 0.1448 - val_accuracy: 0.9781\n",
      "Epoch 6/10\n",
      "1000/1000 [==============================] - 3034s 3s/step - loss: 0.1417 - accuracy: 0.9778 - val_loss: 0.1138 - val_accuracy: 0.9827\n",
      "Epoch 7/10\n",
      "1000/1000 [==============================] - 3028s 3s/step - loss: 0.1407 - accuracy: 0.9781 - val_loss: 0.1130 - val_accuracy: 0.9831\n",
      "Epoch 8/10\n",
      "1000/1000 [==============================] - 3028s 3s/step - loss: 0.1342 - accuracy: 0.9779 - val_loss: 0.1432 - val_accuracy: 0.9824\n",
      "Epoch 9/10\n",
      "1000/1000 [==============================] - 3030s 3s/step - loss: 0.1277 - accuracy: 0.9798 - val_loss: 0.1390 - val_accuracy: 0.9793\n",
      "Epoch 10/10\n",
      "1000/1000 [==============================] - 3131s 3s/step - loss: 0.1333 - accuracy: 0.9799 - val_loss: 0.1162 - val_accuracy: 0.9851\n"
     ]
    }
   ],
   "source": [
    "hist = crack_detection_model.fit(training_dataset,\n",
    "                                 validation_data=validation_dataset, \n",
    "                                 epochs=10,\n",
    "                                 batch_size=128,\n",
    "                                 )"
   ]
  },
  {
   "cell_type": "code",
   "execution_count": 13,
   "metadata": {
    "id": "tsIzTdoyF-Tm"
   },
   "outputs": [],
   "source": [
    "# We have trained our prediction model with almost 98% accuracy on the validiation dataset\n",
    "\n",
    "#Let us test our model on some randomly selected images"
   ]
  },
  {
   "cell_type": "code",
   "execution_count": 14,
   "metadata": {
    "id": "8hwIbRNsF-YK"
   },
   "outputs": [],
   "source": [
    "img_path1 = \"/content/cracked.jpg\"\n",
    "\n",
    "img1 = keras.preprocessing.image.load_img(img_path1, target_size=(128, 128))\n",
    "img_array1 = keras.preprocessing.image.img_to_array(img1)/255\n",
    "\n",
    "img_batch1 = np.expand_dims(img_array1,[0])"
   ]
  },
  {
   "cell_type": "code",
   "execution_count": 15,
   "metadata": {
    "colab": {
     "base_uri": "https://localhost:8080/"
    },
    "id": "JjH2O7j1F-bH",
    "outputId": "8be93199-dede-45bc-96a1-edb6dd7764dc"
   },
   "outputs": [
    {
     "name": "stdout",
     "output_type": "stream",
     "text": [
      "0.8033247\n",
      "Probability that the sample has a Crack = 0.8033247\n",
      "Crack Detected !\n"
     ]
    }
   ],
   "source": [
    "prediction1 = crack_detection_model.predict(img_batch1)\n",
    "\n",
    "print(prediction1[0][0])\n",
    "display_prediction_stats(prediction1[0][0])"
   ]
  },
  {
   "cell_type": "code",
   "execution_count": 16,
   "metadata": {
    "id": "QSIYIFjALc87"
   },
   "outputs": [],
   "source": [
    "img_path2 = \"/content/no_crack.jpg\"\n",
    "\n",
    "img2 = keras.preprocessing.image.load_img(img_path2, target_size=(128, 128))\n",
    "img_array2 = keras.preprocessing.image.img_to_array(img2)/255\n",
    "\n",
    "img_batch2 = np.expand_dims(img_array2,[0])\n"
   ]
  },
  {
   "cell_type": "code",
   "execution_count": 17,
   "metadata": {
    "colab": {
     "base_uri": "https://localhost:8080/"
    },
    "id": "4GH6_GQlLdD7",
    "outputId": "6f072d3c-5515-4403-c67e-5b49adad4806"
   },
   "outputs": [
    {
     "name": "stdout",
     "output_type": "stream",
     "text": [
      "Probability that the sample has a Crack = 0.011546552\n",
      "No Crack Detected !\n"
     ]
    }
   ],
   "source": [
    "prediction2 = crack_detection_model.predict(img_batch2)\n",
    "display_prediction_stats(prediction2[0][0])"
   ]
  },
  {
   "cell_type": "code",
   "execution_count": 18,
   "metadata": {
    "id": "BH0dktYDMh4M"
   },
   "outputs": [],
   "source": [
    "img_path3 = \"/content/no_crack2.jpg\"\n",
    "\n",
    "img3 = keras.preprocessing.image.load_img(img_path3, target_size=(128, 128))\n",
    "img_array3 = keras.preprocessing.image.img_to_array(img3)/255\n",
    "\n",
    "img_batch3 = np.expand_dims(img_array3,[0])"
   ]
  },
  {
   "cell_type": "code",
   "execution_count": 19,
   "metadata": {
    "colab": {
     "base_uri": "https://localhost:8080/"
    },
    "id": "HXFLsDJmMh8M",
    "outputId": "1942dddb-2537-4c58-b183-78b7324dee4e"
   },
   "outputs": [
    {
     "name": "stdout",
     "output_type": "stream",
     "text": [
      "Probability that the sample has a Crack = 0.0041581094\n",
      "No Crack Detected !\n"
     ]
    }
   ],
   "source": [
    "prediction3 = crack_detection_model.predict(img_batch3)\n",
    "display_prediction_stats(prediction3[0][0])"
   ]
  }
 ],
 "metadata": {
  "colab": {
   "collapsed_sections": [],
   "name": "3_cnn_allnn.ipynb",
   "provenance": []
  },
  "kernelspec": {
   "display_name": "Python 3",
   "language": "python",
   "name": "python3"
  },
  "language_info": {
   "codemirror_mode": {
    "name": "ipython",
    "version": 3
   },
   "file_extension": ".py",
   "mimetype": "text/x-python",
   "name": "python",
   "nbconvert_exporter": "python",
   "pygments_lexer": "ipython3",
   "version": "3.8.6"
  }
 },
 "nbformat": 4,
 "nbformat_minor": 1
}
