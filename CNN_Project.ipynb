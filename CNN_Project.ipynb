{
  "nbformat": 4,
  "nbformat_minor": 0,
  "metadata": {
    "colab": {
      "name": "CNN_Project.ipynb",
      "provenance": []
    },
    "kernelspec": {
      "name": "python3",
      "display_name": "Python 3"
    }
  },
  "cells": [
    {
      "cell_type": "markdown",
      "metadata": {
        "id": "RA1n_CVigUbG"
      },
      "source": [
        "Class indices : 0 = Negative, 1 = Positive"
      ]
    },
    {
      "cell_type": "code",
      "metadata": {
        "id": "6ae40Qsq0kws"
      },
      "source": [
        "import numpy as np\r\n",
        "import pandas as pd\r\n",
        "import matplotlib.pyplot as plt\r\n",
        "import tensorflow as tf\r\n",
        "from tensorflow import keras"
      ],
      "execution_count": null,
      "outputs": []
    },
    {
      "cell_type": "code",
      "metadata": {
        "id": "XeSSK9pT0NyE"
      },
      "source": [
        "from google.colab import drive\r\n",
        "drive.mount('/content/drive')"
      ],
      "execution_count": null,
      "outputs": []
    },
    {
      "cell_type": "code",
      "metadata": {
        "id": "Tb0N1KCE0N0_"
      },
      "source": [
        "!unzip -uq \"/content/drive/My Drive/Projects/DLPS/dataset\" -d \"/content/input\""
      ],
      "execution_count": null,
      "outputs": []
    },
    {
      "cell_type": "code",
      "metadata": {
        "id": "9MCRdXQa0N3n"
      },
      "source": [
        "import os\r\n",
        "import cv2"
      ],
      "execution_count": null,
      "outputs": []
    },
    {
      "cell_type": "code",
      "metadata": {
        "id": "1HB2HS0Ct2J9"
      },
      "source": [
        "for root,directory_names,file_names in os.walk('/content/input', topdown=True):\r\n",
        "  for each_file_name in file_names:\r\n",
        "    print(os.path.join(root, each_file_name))"
      ],
      "execution_count": null,
      "outputs": []
    },
    {
      "cell_type": "code",
      "metadata": {
        "id": "EwVlb2-9urRB"
      },
      "source": [
        "#data augmentation \r\n",
        "image_generator = keras.preprocessing.image.ImageDataGenerator(rescale=1/255,\r\n",
        "                                     validation_split=0.2,\r\n",
        "                                     horizontal_flip=True,\r\n",
        "                                     vertical_flip=True,\r\n",
        "                                     fill_mode='nearest')\r\n",
        "\r\n",
        "training_dataset = image_generator.flow_from_directory('input',\r\n",
        "                                                       batch_size=32,\r\n",
        "                                                       shuffle=True,\r\n",
        "                                                       target_size=(200,200),\r\n",
        "                                                       subset=\"training\",\r\n",
        "                                                       class_mode=\"binary\")\r\n",
        "\r\n",
        "validation_dataset = image_generator.flow_from_directory('input',\r\n",
        "                                                       batch_size=32,\r\n",
        "                                                       shuffle=True,\r\n",
        "                                                       target_size=(200,200),\r\n",
        "                                                       subset=\"validation\",\r\n",
        "                                                       class_mode=\"binary\")"
      ],
      "execution_count": null,
      "outputs": []
    },
    {
      "cell_type": "code",
      "metadata": {
        "colab": {
          "base_uri": "https://localhost:8080/"
        },
        "id": "Y0lbzQIz3lOw",
        "outputId": "79a87b53-a73e-451d-9d58-c7af179eedd8"
      },
      "source": [
        "training_dataset.class_indices"
      ],
      "execution_count": null,
      "outputs": [
        {
          "output_type": "execute_result",
          "data": {
            "text/plain": [
              "{'Negative': 0, 'Positive': 1}"
            ]
          },
          "metadata": {
            "tags": []
          },
          "execution_count": 8
        }
      ]
    },
    {
      "cell_type": "code",
      "metadata": {
        "id": "y38b3UGI3lZb"
      },
      "source": [
        ""
      ],
      "execution_count": null,
      "outputs": []
    },
    {
      "cell_type": "code",
      "metadata": {
        "id": "u8XrMq7G3lcJ"
      },
      "source": [
        ""
      ],
      "execution_count": null,
      "outputs": []
    },
    {
      "cell_type": "code",
      "metadata": {
        "id": "c4qYYMzS3lez"
      },
      "source": [
        ""
      ],
      "execution_count": null,
      "outputs": []
    },
    {
      "cell_type": "code",
      "metadata": {
        "id": "9M58a_9-3lh2"
      },
      "source": [
        ""
      ],
      "execution_count": null,
      "outputs": []
    },
    {
      "cell_type": "code",
      "metadata": {
        "id": "RY9vYv-X3lkO"
      },
      "source": [
        ""
      ],
      "execution_count": null,
      "outputs": []
    },
    {
      "cell_type": "code",
      "metadata": {
        "id": "nSQq7qiI3lnu"
      },
      "source": [
        ""
      ],
      "execution_count": null,
      "outputs": []
    }
  ]
}